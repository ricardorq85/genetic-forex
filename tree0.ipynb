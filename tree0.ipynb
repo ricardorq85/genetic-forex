{
  "nbformat": 4,
  "nbformat_minor": 0,
  "metadata": {
    "colab": {
      "name": "tree0.ipynb",
      "version": "0.3.2",
      "provenance": [],
      "collapsed_sections": [],
      "include_colab_link": true
    },
    "kernelspec": {
      "display_name": "Python 3",
      "language": "python",
      "name": "python3"
    }
  },
  "cells": [
    {
      "cell_type": "markdown",
      "metadata": {
        "id": "view-in-github",
        "colab_type": "text"
      },
      "source": [
        "<a href=\"https://colab.research.google.com/github/ricardorq85/genetic-forex/blob/master/tree0.ipynb\" target=\"_parent\"><img src=\"https://colab.research.google.com/assets/colab-badge.svg\" alt=\"Open In Colab\"/></a>"
      ]
    },
    {
      "cell_type": "markdown",
      "metadata": {
        "id": "TJuO5bu5xloy",
        "colab_type": "text"
      },
      "source": [
        "# Árboles de decisión\n",
        "\n",
        "En este cuaderno vamos a implementar árboles de decisión para un problema de clasificación binaria."
      ]
    },
    {
      "cell_type": "code",
      "metadata": {
        "id": "NmweCCoOxYO0",
        "colab_type": "code",
        "colab": {}
      },
      "source": [
        "import numpy as np\n",
        "import matplotlib.pyplot as plt\n",
        "from matplotlib.colors import ListedColormap\n",
        "\n",
        "from sklearn.datasets import make_moons"
      ],
      "execution_count": 0,
      "outputs": []
    },
    {
      "cell_type": "code",
      "metadata": {
        "id": "gMRJx8OOzY_b",
        "colab_type": "code",
        "colab": {}
      },
      "source": [
        "plt.rc('font', family='serif')\n",
        "%matplotlib inline"
      ],
      "execution_count": 0,
      "outputs": []
    },
    {
      "cell_type": "code",
      "metadata": {
        "id": "HihSRIDLzXYq",
        "colab_type": "code",
        "colab": {}
      },
      "source": [
        "def plot_decision_regions(X, y, classifier=None, resolution=0.02):\n",
        "    \"\"\" Taken from Rashka's book \"\"\"\n",
        "    # setup marker generator and color map\n",
        "    markers = ('s', 'x', 'o', '^', 'v')\n",
        "    colors = ('red', 'blue', 'lightgreen', 'gray', 'cyan')\n",
        "    cmap = ListedColormap(colors[:len(np.unique(y))])\n",
        "    \n",
        "    # plot the decision surface\n",
        "    x1_min, x1_max = X[:, 0].min() - 0.3, X[:, 0].max() + 0.3\n",
        "    x2_min, x2_max = X[:, 1].min() - 0.3, X[:, 1].max() + 0.3\n",
        "    xx1, xx2 = np.meshgrid(\n",
        "        np.arange(x1_min, x1_max, resolution),\n",
        "        np.arange(x2_min, x2_max, resolution)\n",
        "    )\n",
        "    \n",
        "    if classifier is not None:\n",
        "        Z = classifier.predict(np.array([xx1.ravel(), xx2.ravel()]).T)\n",
        "        Z = Z.reshape(xx1.shape)\n",
        "        plt.contourf(xx1, xx2, Z, alpha=0.3, cmap=cmap)\n",
        "        \n",
        "    plt.xlim(xx1.min(), xx1.max())\n",
        "    plt.ylim(xx2.min(), xx2.max())\n",
        "    \n",
        "    # plot class samples\n",
        "    for idx, cl in enumerate(np.unique(y)):\n",
        "        plt.scatter(\n",
        "            x=X[y == cl, 0],\n",
        "            y=X[y == cl, 1],\n",
        "            alpha=0.8,\n",
        "            c=colors[idx],\n",
        "            marker=markers[idx],\n",
        "            label=cl,\n",
        "            edgecolor='black'\n",
        "        )"
      ],
      "execution_count": 0,
      "outputs": []
    },
    {
      "cell_type": "code",
      "metadata": {
        "id": "6LC2COK2zYLV",
        "colab_type": "code",
        "outputId": "9e315893-f01b-4e54-a6d1-0bbb860df8de",
        "colab": {
          "base_uri": "https://localhost:8080/",
          "height": 268
        }
      },
      "source": [
        "X, y = make_moons(noise=0.2)\n",
        "plot_decision_regions(X, y)"
      ],
      "execution_count": 0,
      "outputs": [
        {
          "output_type": "display_data",
          "data": {
            "image/png": "[encoded data removed]",
            "text/plain": [
              "<Figure size 432x288 with 1 Axes>"
            ]
          },
          "metadata": {
            "tags": []
          }
        }
      ]
    },
    {
      "cell_type": "markdown",
      "metadata": {
        "id": "VvxttQMFHypa",
        "colab_type": "text"
      },
      "source": [
        "Primero vamos a definir una clase llamada Dataset, la cual contiene un atributo `features` y un atributo `labels`."
      ]
    },
    {
      "cell_type": "code",
      "metadata": {
        "id": "GJPYkvSQPTro",
        "colab_type": "code",
        "colab": {}
      },
      "source": [
        "class Dataset:\n",
        "    def __init__(self, features, labels):\n",
        "        \n",
        "        #The following assertion should be uncomented,\n",
        "        #but it is easier to verify your without it.\n",
        "        #assert features.shape[0] == labels.shape[0]\n",
        "        \n",
        "        self.features = features\n",
        "        self.labels = labels\n",
        "        self.length = labels.shape[0]\n",
        "        \n",
        "#    def __getitem__(self, i):\n",
        "#        features = self.features[i,:]\n",
        "#        labels = self.labels[i]\n",
        "#        return type(self)(features, labels)\n",
        "        \n",
        "    def __repr__(self):\n",
        "        msg = \"Dataset my dataset of {} observations and {} predictor variables\"\n",
        "        return msg.format(self.length, self.features.shape[1])"
      ],
      "execution_count": 0,
      "outputs": []
    },
    {
      "cell_type": "code",
      "metadata": {
        "id": "Mj5Wb59Za5Gt",
        "colab_type": "code",
        "colab": {}
      },
      "source": [
        "labels = np.array([0,0,1,1,1,2,1])"
      ],
      "execution_count": 0,
      "outputs": []
    },
    {
      "cell_type": "code",
      "metadata": {
        "id": "YCvJgHSZbCw7",
        "colab_type": "code",
        "outputId": "497739c6-8f24-451f-88dc-648ee26c6c98",
        "colab": {
          "base_uri": "https://localhost:8080/",
          "height": 34
        }
      },
      "source": [
        "(labels == 0).sum()"
      ],
      "execution_count": 0,
      "outputs": [
        {
          "output_type": "execute_result",
          "data": {
            "text/plain": [
              "2"
            ]
          },
          "metadata": {
            "tags": []
          },
          "execution_count": 9
        }
      ]
    },
    {
      "cell_type": "markdown",
      "metadata": {
        "id": "nICD_nxZVaA1",
        "colab_type": "text"
      },
      "source": [
        "## Componentes de un árbol de decisión\n",
        "**Ejercicio 1:** calcular la proporción de elementos de un conjunto de datos que pertenece a una clase en particular."
      ]
    },
    {
      "cell_type": "code",
      "metadata": {
        "id": "ktmZbPJkVZWB",
        "colab_type": "code",
        "colab": {}
      },
      "source": [
        "def _proportion(c, ds):\n",
        "    \"\"\" compute the proportion of data points of class c in dataset ds. \"\"\"\n",
        "    # your code starts here\n",
        "    num = (ds.labels == c).sum()\n",
        "    den = ds.length\n",
        "    prop = num/den\n",
        "    # your code ends here\n",
        "    return prop"
      ],
      "execution_count": 0,
      "outputs": []
    },
    {
      "cell_type": "markdown",
      "metadata": {
        "id": "A3NwuQ2zXQeZ",
        "colab_type": "text"
      },
      "source": [
        "Si todo funciona, el resultado de la siguiente celda debe ser 0.25"
      ]
    },
    {
      "cell_type": "code",
      "metadata": {
        "id": "6TgshkFWVgJc",
        "colab_type": "code",
        "colab": {}
      },
      "source": [
        "ds = Dataset(features=None, labels=np.array([0, 0, 1, 0]))\n",
        "print(\"Proportion of class {} is {}\".format(1, _proportion(1, ds)))"
      ],
      "execution_count": 0,
      "outputs": []
    },
    {
      "cell_type": "markdown",
      "metadata": {
        "id": "f1fQoT-QXYGH",
        "colab_type": "text"
      },
      "source": [
        "**Ejercicio 2:** crear una función que compute el indice gini de un conjunto de datos"
      ]
    },
    {
      "cell_type": "code",
      "metadata": {
        "id": "sUHjUPXSVgDA",
        "colab_type": "code",
        "colab": {}
      },
      "source": [
        "def _gini_index(ds):\n",
        "    \"\"\" Computes the gini index of ds \"\"\"\n",
        "    # your code starts here\n",
        "    \n",
        "    # your code ends here\n",
        "    return gini"
      ],
      "execution_count": 0,
      "outputs": []
    },
    {
      "cell_type": "markdown",
      "metadata": {
        "id": "5WLT32QuZyFy",
        "colab_type": "text"
      },
      "source": [
        "Si lo hiciste bien, lo siguiente debe resultar en 0.375"
      ]
    },
    {
      "cell_type": "code",
      "metadata": {
        "id": "-FmqJ7RsVf1G",
        "colab_type": "code",
        "colab": {}
      },
      "source": [
        "ds = Dataset(features=None, labels=np.array([0, 0, 1, 0]))\n",
        "print(\"The Gini index of the data set is {}\".format(_gini_index(ds)))"
      ],
      "execution_count": 0,
      "outputs": []
    },
    {
      "cell_type": "markdown",
      "metadata": {
        "id": "wFsCsRohaII9",
        "colab_type": "text"
      },
      "source": [
        "**Ejercicio 3:** implementar una función que calcule la entropía en un conjunto de datos."
      ]
    },
    {
      "cell_type": "code",
      "metadata": {
        "id": "HfCAjxIbaPdT",
        "colab_type": "code",
        "colab": {}
      },
      "source": [
        "def _entropy(ds):\n",
        "    \"\"\" Computes the entropy of a data set\"\"\"\n",
        "    # here starts your code\n",
        "    \n",
        "    props = \n",
        "    # here ends your code\n",
        "    return entropy"
      ],
      "execution_count": 0,
      "outputs": []
    },
    {
      "cell_type": "markdown",
      "metadata": {
        "id": "bRgstvz0cIpA",
        "colab_type": "text"
      },
      "source": [
        "Lo siguiente debe dar 0.81"
      ]
    },
    {
      "cell_type": "code",
      "metadata": {
        "id": "Ron86HI0bdRM",
        "colab_type": "code",
        "colab": {}
      },
      "source": [
        "ds = Dataset(features=None, labels=np.array([0, 0, 1, 0]))\n",
        "print(\"The Entropy of the data set is {:.2f}\".format(_entropy(ds)))"
      ],
      "execution_count": 0,
      "outputs": []
    },
    {
      "cell_type": "markdown",
      "metadata": {
        "id": "elKz6BYQdcAk",
        "colab_type": "text"
      },
      "source": [
        "**Ejercicio 4:** implementar la función para calcular la ganancia de información"
      ]
    },
    {
      "cell_type": "code",
      "metadata": {
        "id": "XbXUvssDbc-W",
        "colab_type": "code",
        "colab": {}
      },
      "source": [
        "def _info_gain(ds, ds_left, ds_right, impurity_fn):\n",
        "    \"\"\"Compute the information gain of a split.\"\"\"\n",
        "    # here starts your code\n",
        "    \n",
        "    info_gain = \n",
        "    # here ends your code\n",
        "    return info_gain"
      ],
      "execution_count": 0,
      "outputs": []
    },
    {
      "cell_type": "markdown",
      "metadata": {
        "id": "rx4q80EQsObY",
        "colab_type": "text"
      },
      "source": [
        "Lo siguiente debe dar 0.12 y 0.19"
      ]
    },
    {
      "cell_type": "code",
      "metadata": {
        "id": "8YV_P-tfm4UX",
        "colab_type": "code",
        "colab": {}
      },
      "source": [
        "ds = Dataset(features=None, labels=np.array([0, 0, 0, 0, 1, 1, 1, 1]))\n",
        "ds_left = Dataset(features=None, labels=np.array([0, 0, 0, 1]))\n",
        "ds_right = Dataset(features=None, labels=np.array([0, 1, 1, 1]))\n",
        "\n",
        "msg = \"The information gain of the split using gini index is {:.2f}\"\n",
        "print(msg.format(_info_gain(ds, ds_left, ds_right, _gini_index)))\n",
        "\n",
        "msg = \"The information gain of the split using entropy is {:.2f}\"\n",
        "print(msg.format(_info_gain(ds, ds_left, ds_right, _entropy)))"
      ],
      "execution_count": 0,
      "outputs": []
    },
    {
      "cell_type": "markdown",
      "metadata": {
        "id": "VNntDkB5vKae",
        "colab_type": "text"
      },
      "source": [
        "**Ejercicio 5:** implemente la función que parte un conjunto de datos en 2"
      ]
    },
    {
      "cell_type": "code",
      "metadata": {
        "id": "lLWpVaJZm4MP",
        "colab_type": "code",
        "colab": {}
      },
      "source": [
        "def _split_ds(ds, idx, value):\n",
        "    \"\"\" Create left and right splits of ds based on idx and value\"\"\"\n",
        "    #here starts your code\n",
        "    \n",
        "    \n",
        "    # here ends your code\n",
        "    return ds_left, ds_right"
      ],
      "execution_count": 0,
      "outputs": []
    },
    {
      "cell_type": "markdown",
      "metadata": {
        "id": "nei-CFyfwzyP",
        "colab_type": "text"
      },
      "source": [
        "We are expecting the following result: \n",
        "\n",
        "\n",
        "```\n",
        "Left...features: [[1.9 1.3]\n",
        " [2.7 1.1]]. labels [0 0].\n",
        "Right...features: [[9.5 3.6]\n",
        " [7.2 3.1]\n",
        " [7.4 0.3]]. labels [1 1 1].\n",
        "```"
      ]
    },
    {
      "cell_type": "code",
      "metadata": {
        "id": "yWumsfjPm36a",
        "colab_type": "code",
        "colab": {}
      },
      "source": [
        "X_ = np.array([[1.9,1.3],\n",
        "\t           [2.7,1.1],\n",
        "               [9.5,3.6],\n",
        "               [7.2,3.1],\n",
        "               [7.4,0.3]])\n",
        "y_ = np.array([0,0,1,1,1])\n",
        "ds = Dataset(X_, y_)\n",
        "ds_left, ds_right = _split_ds(ds, 0, 5)\n",
        "\n",
        "msg = \"Left...features: {}. labels {}.\"\n",
        "print(msg.format(ds_left.features, ds_left.labels))\n",
        "\n",
        "msg = \"Right...features: {}. labels {}.\"\n",
        "print(msg.format(ds_right.features, ds_right.labels))"
      ],
      "execution_count": 0,
      "outputs": []
    },
    {
      "cell_type": "markdown",
      "metadata": {
        "id": "kGdviHam5-Pq",
        "colab_type": "text"
      },
      "source": [
        "**Ejercicio 6:** implementa una función que encuentre el mejor punto (índice y valor) para dividir un conjunto de datos. El resultado de esta función debe ser un diccionario que contenga los campos `idx, value, ds_left, ds_right`. La implementación está casi lista, solo debes reemplazar cosas que hacen que no funcione."
      ]
    },
    {
      "cell_type": "code",
      "metadata": {
        "id": "n7BgU9Gk3Pt_",
        "colab_type": "code",
        "colab": {}
      },
      "source": [
        "def _best_split(ds, impurity_fn):\n",
        "    \"\"\" find the best split of a dataset using the given impurity_fn\"\"\"\n",
        "    #set best value to the lowest possible\n",
        "    best = \n",
        "    \n",
        "    indices = ds.features.shape[1]\n",
        "    \n",
        "    for idx in range(indices):\n",
        "        for _ in _:\n",
        "            ds_left, ds_right = ####\n",
        "            temp = #####\n",
        "            if ####:\n",
        "                best = temp\n",
        "                result = {\n",
        "                    'idx': idx, \n",
        "                    'value': value,\n",
        "                    'ds_left': ds_left,\n",
        "                    'ds_right': ds_right\n",
        "                }\n",
        "    return result"
      ],
      "execution_count": 0,
      "outputs": []
    },
    {
      "cell_type": "markdown",
      "metadata": {
        "id": "JbQjc-RM-FTI",
        "colab_type": "text"
      },
      "source": [
        "El mejor punto debe ser en el índice 0 y con el valor 3.6"
      ]
    },
    {
      "cell_type": "code",
      "metadata": {
        "id": "DAcOUxuo3PRu",
        "colab_type": "code",
        "colab": {}
      },
      "source": [
        "X_ = np.array([[1.9,1.3],\n",
        "\t           [2.7,1.1],\n",
        "               [3.3,2.1],\n",
        "               [3.6,2.9],\n",
        "               [0.8,2.4],\n",
        "               [9.5,3.6],\n",
        "               [7.2,3.1],\n",
        "               [7.4,4.3],\n",
        "               [10.1,3.5],\n",
        "               [6.2,3.7]])\n",
        "y_ = np.array([0,0,0,0,0,1,1,1,1,1])\n",
        "ds = Dataset(X_, y_)\n",
        "result = _best_split(ds, _gini_index)\n",
        "msg = \"The best split ocurs at index {} and value {}\"\n",
        "print(msg.format(result['idx'], result['value']))"
      ],
      "execution_count": 0,
      "outputs": []
    },
    {
      "cell_type": "markdown",
      "metadata": {
        "id": "X9r9-_ne2ED9",
        "colab_type": "text"
      },
      "source": [
        "## Árbol de decisión en una clase\n",
        "Ya tenemos casi todo lo necesario para implementar una clase que se encargue de todo. Una de las ventajas de poner todo en una clase, es que esta se puede reutilizar más fácilmente; esto puede implicar que le podemos poner una interfaz a nuestro modelo que se adapte bien a como todo funciona dentro de la empresa. \n",
        "\n",
        "Falta muy poco para terminar de implementar nuestro árbol de decisión para clasificación. Lo que falta no será ejercicio sino que se dará como ejemplo.\n"
      ]
    },
    {
      "cell_type": "code",
      "metadata": {
        "id": "khfuCmA3jUfv",
        "colab_type": "code",
        "colab": {}
      },
      "source": [
        "class DecisionTreeClassifier:\n",
        "    def __init__(self, max_depth=5, criterion='gini'):\n",
        "        self._root = None\n",
        "        self.max_depth = max_depth\n",
        "        if criterion == 'gini':\n",
        "            self._impurity_fn = lambda x: _gini_index(x)\n",
        "        else:\n",
        "            self._impurity_fn = lambda x: _entropy(x)\n",
        "               \n",
        "    \n",
        "    def _best_split(self, ds):\n",
        "        return _best_split(ds, self._impurity_fn)\n",
        "    \n",
        "    def _define_class(self, labels):\n",
        "        return np.bincount(labels).argmax()\n",
        "    \n",
        "    def _recursive_split(self, node, depth):\n",
        "        \n",
        "        ds_left, ds_right = node['ds_left'], node['ds_right']\n",
        "        del node['ds_left']; del node['ds_right']\n",
        "        \n",
        "        if ds_left.length == 0 or ds_right.length == 0:\n",
        "            all_labels = np.concatenate((ds_left.labels, ds_right.labels))\n",
        "            val = self._define_class(all_labels)\n",
        "            node['left'] = node['right'] = val\n",
        "            return\n",
        "            \n",
        "        if depth >= self.max_depth:\n",
        "            node['left'] = self._define_class(ds_left.labels)\n",
        "            node['right'] = self._define_class(ds_right.labels)\n",
        "            return \n",
        "           \n",
        "        if  ds_left.length == 1:\n",
        "            node['left'] = self._define_class(ds_left.labels)\n",
        "        else:\n",
        "            node['left'] = self._best_split(ds_left)\n",
        "            self._recursive_split(node['left'], depth + 1)\n",
        "            \n",
        "        if ds_right.length == 1:\n",
        "            node['right'] = self._define_class(ds_right.labels)\n",
        "        else:\n",
        "            node['right'] = self._best_split(ds_right)\n",
        "            self._recursive_split(node['right'], depth + 1)\n",
        "      \n",
        "    def fit(self, X, y):\n",
        "        self._root = self._best_split(Dataset(X, y))\n",
        "        self._recursive_split(self._root, 1)\n",
        "        \n",
        "    def _recursive_travel(self, node, x):\n",
        "        idx = node['idx']\n",
        "        value = node['value']\n",
        "        if x[idx] <= value:\n",
        "            if isinstance(node['left'], dict):\n",
        "                return self._recursive_travel(node['left'], x)\n",
        "            else:\n",
        "                return node['left']\n",
        "        else:\n",
        "            if isinstance(node['right'], dict):\n",
        "                return self._recursive_travel(node['right'], x)\n",
        "            else:\n",
        "                return node['right']\n",
        "    \n",
        "    def predict(self, X):\n",
        "        if self._root is not None:\n",
        "            iterable = (self._recursive_travel(self._root, xi) for xi in X)\n",
        "            return np.fromiter(iterable, int, X.shape[0])\n",
        "        else:\n",
        "            raise RuntimeError(\"please train me first\")"
      ],
      "execution_count": 0,
      "outputs": []
    },
    {
      "cell_type": "code",
      "metadata": {
        "id": "p3GE7FIRuoj2",
        "colab_type": "code",
        "colab": {}
      },
      "source": [
        "mytree = DecisionTreeClassifier(max_depth=5, criterion='entropy')\n",
        "mytree.fit(X, y)"
      ],
      "execution_count": 0,
      "outputs": []
    },
    {
      "cell_type": "code",
      "metadata": {
        "id": "A9XHqUGPwpf-",
        "colab_type": "code",
        "colab": {}
      },
      "source": [
        "np.mean(mytree.predict(X) == y)"
      ],
      "execution_count": 0,
      "outputs": []
    },
    {
      "cell_type": "code",
      "metadata": {
        "id": "JM0DGve4mNUR",
        "colab_type": "code",
        "colab": {}
      },
      "source": [
        "plot_decision_regions(X, y, classifier=mytree)"
      ],
      "execution_count": 0,
      "outputs": []
    },
    {
      "cell_type": "code",
      "metadata": {
        "id": "SyjWcBnJMMUp",
        "colab_type": "code",
        "colab": {}
      },
      "source": [
        ""
      ],
      "execution_count": 0,
      "outputs": []
    }
  ]
}